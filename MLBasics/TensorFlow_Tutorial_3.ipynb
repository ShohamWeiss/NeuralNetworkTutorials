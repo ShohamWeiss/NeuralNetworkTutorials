{
  "nbformat": 4,
  "nbformat_minor": 0,
  "metadata": {
    "colab": {
      "name": "TensorFlow Tutorial 3.ipynb",
      "provenance": [],
      "collapsed_sections": [],
      "authorship_tag": "ABX9TyO3oZCTOl8bPvERdWcsxCtF",
      "include_colab_link": true
    },
    "kernelspec": {
      "name": "python3",
      "display_name": "Python 3"
    }
  },
  "cells": [
    {
      "cell_type": "markdown",
      "metadata": {
        "id": "view-in-github",
        "colab_type": "text"
      },
      "source": [
        "<a href=\"https://colab.research.google.com/github/ShohamWeiss/NeuralNetworkTutorials/blob/master/TensorFlow_Tutorial_3.ipynb\" target=\"_parent\"><img src=\"https://colab.research.google.com/assets/colab-badge.svg\" alt=\"Open In Colab\"/></a>"
      ]
    },
    {
      "cell_type": "markdown",
      "metadata": {
        "id": "qse9n2A7gWCF",
        "colab_type": "text"
      },
      "source": [
        "# Test Classifications with preprocessed text: Movie review"
      ]
    },
    {
      "cell_type": "code",
      "metadata": {
        "id": "q2T0OkHngU10",
        "colab_type": "code",
        "colab": {}
      },
      "source": [
        "import tensorflow as tf"
      ],
      "execution_count": 1,
      "outputs": []
    },
    {
      "cell_type": "code",
      "metadata": {
        "id": "sSapEDM9hMwo",
        "colab_type": "code",
        "colab": {
          "base_uri": "https://localhost:8080/",
          "height": 34
        },
        "outputId": "ed8e52f6-53fe-4754-cf50-14fade3e5939"
      },
      "source": [
        "from tensorflow import keras\n",
        "\n",
        "import tensorflow_datasets as tfds\n",
        "tfds.disable_progress_bar()\n",
        "\n",
        "import numpy as np\n",
        "\n",
        "print(tf.__version__)"
      ],
      "execution_count": 2,
      "outputs": [
        {
          "output_type": "stream",
          "text": [
            "2.2.0\n"
          ],
          "name": "stdout"
        }
      ]
    },
    {
      "cell_type": "markdown",
      "metadata": {
        "id": "FxMfKDB8hzqB",
        "colab_type": "text"
      },
      "source": [
        "Download IMDB dataset"
      ]
    },
    {
      "cell_type": "code",
      "metadata": {
        "id": "bBvHEX7VhfwN",
        "colab_type": "code",
        "colab": {
          "base_uri": "https://localhost:8080/",
          "height": 101
        },
        "outputId": "de8e6e53-ac9d-488e-95a1-a8d1c4391b8b"
      },
      "source": [
        "(train_data, test_data), info = tfds.load(\n",
        "    # Using pre-encoded with 8k vocabulary.\n",
        "    'imdb_reviews/subwords8k',\n",
        "    # Returen the train test dataset as a tuple.\n",
        "    split = (tfds.Split.TRAIN, tfds.Split.TEST),\n",
        "    # Return (example, label) pairs from the dataset (instead of dictionary).\n",
        "    as_supervised=True,\n",
        "    # Also return the 'info' structure.\n",
        "    with_info=True)"
      ],
      "execution_count": 3,
      "outputs": [
        {
          "output_type": "stream",
          "text": [
            "\u001b[1mDownloading and preparing dataset imdb_reviews/subwords8k/1.0.0 (download: 80.23 MiB, generated: Unknown size, total: 80.23 MiB) to /root/tensorflow_datasets/imdb_reviews/subwords8k/1.0.0...\u001b[0m\n",
            "Shuffling and writing examples to /root/tensorflow_datasets/imdb_reviews/subwords8k/1.0.0.incompleteZ2V3FQ/imdb_reviews-train.tfrecord\n",
            "Shuffling and writing examples to /root/tensorflow_datasets/imdb_reviews/subwords8k/1.0.0.incompleteZ2V3FQ/imdb_reviews-test.tfrecord\n",
            "Shuffling and writing examples to /root/tensorflow_datasets/imdb_reviews/subwords8k/1.0.0.incompleteZ2V3FQ/imdb_reviews-unsupervised.tfrecord\n",
            "\u001b[1mDataset imdb_reviews downloaded and prepared to /root/tensorflow_datasets/imdb_reviews/subwords8k/1.0.0. Subsequent calls will reuse this data.\u001b[0m\n"
          ],
          "name": "stdout"
        }
      ]
    },
    {
      "cell_type": "code",
      "metadata": {
        "id": "3Z3mf1YQk_qi",
        "colab_type": "code",
        "colab": {}
      },
      "source": [
        "encoder = info.features['text'].encoder"
      ],
      "execution_count": 4,
      "outputs": []
    },
    {
      "cell_type": "code",
      "metadata": {
        "id": "HFwp6IvRlstH",
        "colab_type": "code",
        "colab": {
          "base_uri": "https://localhost:8080/",
          "height": 34
        },
        "outputId": "0fd41803-067e-48e1-e05c-c5f4f7c295e1"
      },
      "source": [
        "print('Vocabulary size: {}'.format(encoder.vocab_size))"
      ],
      "execution_count": 6,
      "outputs": [
        {
          "output_type": "stream",
          "text": [
            "Vocabulary size: 8185\n"
          ],
          "name": "stdout"
        }
      ]
    },
    {
      "cell_type": "code",
      "metadata": {
        "id": "umMPSknwl-Xt",
        "colab_type": "code",
        "colab": {
          "base_uri": "https://localhost:8080/",
          "height": 101
        },
        "outputId": "41f0af18-9b00-4dd4-b9a0-24befeb93ecd"
      },
      "source": [
        "encoded_string = encoder.encode(\"Hello World.\")\n",
        "for ts in encoded_string:\n",
        "  print( '{} ------> {}'.format(ts, encoder.decode([ts])))"
      ],
      "execution_count": 16,
      "outputs": [
        {
          "output_type": "stream",
          "text": [
            "4025 ------> Hell\n",
            "222 ------> o \n",
            "2307 ------> Wor\n",
            "1829 ------> ld\n",
            "7975 ------> .\n"
          ],
          "name": "stdout"
        }
      ]
    },
    {
      "cell_type": "markdown",
      "metadata": {
        "id": "YpIryrP-mtaY",
        "colab_type": "text"
      },
      "source": [
        "Exploring the data\n",
        "***\n"
      ]
    },
    {
      "cell_type": "code",
      "metadata": {
        "id": "lrkKNpBNmnR7",
        "colab_type": "code",
        "colab": {
          "base_uri": "https://localhost:8080/",
          "height": 67
        },
        "outputId": "23d3ee6b-52cf-4311-fbe8-280d9afba1f7"
      },
      "source": [
        "for train_example, train_label in train_data.take(1):\n",
        "  print('Encoded text:', train_example[:11].numpy())\n",
        "  print('Label:', train_label.numpy())"
      ],
      "execution_count": 41,
      "outputs": [
        {
          "output_type": "stream",
          "text": [
            "Encoded text: [  62   18   41  604  927   65    3  644 7968   21   35]\n",
            "Label: 0\n"
          ],
          "name": "stdout"
        },
        {
          "output_type": "execute_result",
          "data": {
            "text/plain": [
              "numpy.ndarray"
            ]
          },
          "metadata": {
            "tags": []
          },
          "execution_count": 41
        }
      ]
    },
    {
      "cell_type": "code",
      "metadata": {
        "id": "C8SvC-Zjnmne",
        "colab_type": "code",
        "colab": {
          "base_uri": "https://localhost:8080/",
          "height": 35
        },
        "outputId": "9d9d98cc-0106-4620-a685-8060ea20a7ec"
      },
      "source": [
        "encoder.decode(train_example[:11])"
      ],
      "execution_count": 15,
      "outputs": [
        {
          "output_type": "execute_result",
          "data": {
            "application/vnd.google.colaboratory.intrinsic": {
              "type": "string"
            },
            "text/plain": [
              "\"This was an absolutely terrible movie. Don't be \""
            ]
          },
          "metadata": {
            "tags": []
          },
          "execution_count": 15
        }
      ]
    },
    {
      "cell_type": "markdown",
      "metadata": {
        "id": "HfedDZjpodSK",
        "colab_type": "text"
      },
      "source": [
        "Prepare the data for training\n",
        "***"
      ]
    },
    {
      "cell_type": "code",
      "metadata": {
        "id": "cphJm98lnt9L",
        "colab_type": "code",
        "colab": {}
      },
      "source": [
        "BUFFER_SIZE = 1000\n",
        "\n",
        "train_batches = (\n",
        "    train_data\n",
        "    .shuffle(BUFFER_SIZE)\n",
        "    .padded_batch(32)\n",
        ")\n",
        "\n",
        "test_batches = (\n",
        "    test_data.\n",
        "    padded_batch(32)\n",
        ")"
      ],
      "execution_count": 18,
      "outputs": []
    },
    {
      "cell_type": "code",
      "metadata": {
        "id": "dQ_HoKFcpEEO",
        "colab_type": "code",
        "colab": {
          "base_uri": "https://localhost:8080/",
          "height": 84
        },
        "outputId": "e9e37b57-07c1-4b07-a4b4-ab9ff31543f0"
      },
      "source": [
        "for example_batch, label_batch in train_batches.take(2):\n",
        "  print(\"Batch shape: \", example_batch.shape)\n",
        "  print(\"Label shape\", label_batch.shape)"
      ],
      "execution_count": 21,
      "outputs": [
        {
          "output_type": "stream",
          "text": [
            "Batch shape:  (32, 858)\n",
            "Label shape (32,)\n",
            "Batch shape:  (32, 707)\n",
            "Label shape (32,)\n"
          ],
          "name": "stdout"
        }
      ]
    },
    {
      "cell_type": "markdown",
      "metadata": {
        "id": "5XJNPqmnpjdR",
        "colab_type": "text"
      },
      "source": [
        "Building the model\n",
        "***"
      ]
    },
    {
      "cell_type": "code",
      "metadata": {
        "id": "PVZq7SmEpZr8",
        "colab_type": "code",
        "colab": {
          "base_uri": "https://localhost:8080/",
          "height": 252
        },
        "outputId": "36ef623a-2b1f-412e-bed4-e7836da1c015"
      },
      "source": [
        "model = keras.Sequential([\n",
        "  keras.layers.Embedding(encoder.vocab_size, 16),\n",
        "  keras.layers.GlobalAveragePooling1D(),\n",
        "  keras.layers.Dense(1)])\n",
        "\n",
        "model.summary()"
      ],
      "execution_count": 22,
      "outputs": [
        {
          "output_type": "stream",
          "text": [
            "Model: \"sequential\"\n",
            "_________________________________________________________________\n",
            "Layer (type)                 Output Shape              Param #   \n",
            "=================================================================\n",
            "embedding (Embedding)        (None, None, 16)          130960    \n",
            "_________________________________________________________________\n",
            "global_average_pooling1d (Gl (None, 16)                0         \n",
            "_________________________________________________________________\n",
            "dense (Dense)                (None, 1)                 17        \n",
            "=================================================================\n",
            "Total params: 130,977\n",
            "Trainable params: 130,977\n",
            "Non-trainable params: 0\n",
            "_________________________________________________________________\n"
          ],
          "name": "stdout"
        }
      ]
    },
    {
      "cell_type": "code",
      "metadata": {
        "id": "KoyKIM-6qPzw",
        "colab_type": "code",
        "colab": {}
      },
      "source": [
        "model.compile(optimizer='adam',\n",
        "              loss=tf.losses.BinaryCrossentropy(from_logits=True),\n",
        "              metrics=['accuracy'])"
      ],
      "execution_count": 25,
      "outputs": []
    },
    {
      "cell_type": "code",
      "metadata": {
        "id": "2cJibwxzrx9S",
        "colab_type": "code",
        "colab": {
          "base_uri": "https://localhost:8080/",
          "height": 1000
        },
        "outputId": "1cd77a11-987e-4d6d-ad64-ae1f6a8c16af"
      },
      "source": [
        "history = model.fit(train_batches,\n",
        "                    epochs=30,\n",
        "                    validation_data=test_batches,\n",
        "                    validation_steps=30)"
      ],
      "execution_count": 31,
      "outputs": [
        {
          "output_type": "stream",
          "text": [
            "Epoch 1/30\n",
            "782/782 [==============================] - 6s 8ms/step - loss: 0.2753 - accuracy: 0.8925 - val_loss: 0.3605 - val_accuracy: 0.8448\n",
            "Epoch 2/30\n",
            "782/782 [==============================] - 6s 8ms/step - loss: 0.2633 - accuracy: 0.8968 - val_loss: 0.3535 - val_accuracy: 0.8542\n",
            "Epoch 3/30\n",
            "782/782 [==============================] - 6s 8ms/step - loss: 0.2500 - accuracy: 0.9030 - val_loss: 0.3486 - val_accuracy: 0.8667\n",
            "Epoch 4/30\n",
            "782/782 [==============================] - 6s 8ms/step - loss: 0.2404 - accuracy: 0.9072 - val_loss: 0.3460 - val_accuracy: 0.8667\n",
            "Epoch 5/30\n",
            "782/782 [==============================] - 7s 9ms/step - loss: 0.2309 - accuracy: 0.9107 - val_loss: 0.3479 - val_accuracy: 0.8656\n",
            "Epoch 6/30\n",
            "782/782 [==============================] - 6s 8ms/step - loss: 0.2226 - accuracy: 0.9163 - val_loss: 0.3469 - val_accuracy: 0.8646\n",
            "Epoch 7/30\n",
            "782/782 [==============================] - 6s 8ms/step - loss: 0.2161 - accuracy: 0.9195 - val_loss: 0.3434 - val_accuracy: 0.8635\n",
            "Epoch 8/30\n",
            "782/782 [==============================] - 7s 8ms/step - loss: 0.2080 - accuracy: 0.9197 - val_loss: 0.3441 - val_accuracy: 0.8656\n",
            "Epoch 9/30\n",
            "782/782 [==============================] - 7s 8ms/step - loss: 0.2020 - accuracy: 0.9228 - val_loss: 0.3444 - val_accuracy: 0.8677\n",
            "Epoch 10/30\n",
            "782/782 [==============================] - 6s 8ms/step - loss: 0.1954 - accuracy: 0.9269 - val_loss: 0.3455 - val_accuracy: 0.8646\n",
            "Epoch 11/30\n",
            "782/782 [==============================] - 7s 8ms/step - loss: 0.1892 - accuracy: 0.9285 - val_loss: 0.3463 - val_accuracy: 0.8687\n",
            "Epoch 12/30\n",
            "782/782 [==============================] - 6s 8ms/step - loss: 0.1848 - accuracy: 0.9308 - val_loss: 0.3493 - val_accuracy: 0.8656\n",
            "Epoch 13/30\n",
            "782/782 [==============================] - 7s 9ms/step - loss: 0.1798 - accuracy: 0.9330 - val_loss: 0.3610 - val_accuracy: 0.8604\n",
            "Epoch 14/30\n",
            "782/782 [==============================] - 7s 8ms/step - loss: 0.1750 - accuracy: 0.9363 - val_loss: 0.3521 - val_accuracy: 0.8677\n",
            "Epoch 15/30\n",
            "782/782 [==============================] - 7s 8ms/step - loss: 0.1713 - accuracy: 0.9373 - val_loss: 0.3581 - val_accuracy: 0.8667\n",
            "Epoch 16/30\n",
            "782/782 [==============================] - 7s 8ms/step - loss: 0.1651 - accuracy: 0.9402 - val_loss: 0.3656 - val_accuracy: 0.8646\n",
            "Epoch 17/30\n",
            "782/782 [==============================] - 7s 9ms/step - loss: 0.1613 - accuracy: 0.9411 - val_loss: 0.3633 - val_accuracy: 0.8646\n",
            "Epoch 18/30\n",
            "782/782 [==============================] - 7s 9ms/step - loss: 0.1584 - accuracy: 0.9428 - val_loss: 0.3639 - val_accuracy: 0.8635\n",
            "Epoch 19/30\n",
            "782/782 [==============================] - 7s 9ms/step - loss: 0.1538 - accuracy: 0.9434 - val_loss: 0.3679 - val_accuracy: 0.8625\n",
            "Epoch 20/30\n",
            "782/782 [==============================] - 7s 8ms/step - loss: 0.1495 - accuracy: 0.9462 - val_loss: 0.3739 - val_accuracy: 0.8594\n",
            "Epoch 21/30\n",
            "782/782 [==============================] - 7s 9ms/step - loss: 0.1468 - accuracy: 0.9468 - val_loss: 0.3780 - val_accuracy: 0.8594\n",
            "Epoch 22/30\n",
            "782/782 [==============================] - 7s 8ms/step - loss: 0.1444 - accuracy: 0.9488 - val_loss: 0.3807 - val_accuracy: 0.8646\n",
            "Epoch 23/30\n",
            "782/782 [==============================] - 7s 9ms/step - loss: 0.1405 - accuracy: 0.9500 - val_loss: 0.3837 - val_accuracy: 0.8615\n",
            "Epoch 24/30\n",
            "782/782 [==============================] - 7s 8ms/step - loss: 0.1364 - accuracy: 0.9512 - val_loss: 0.4040 - val_accuracy: 0.8604\n",
            "Epoch 25/30\n",
            "782/782 [==============================] - 6s 8ms/step - loss: 0.1335 - accuracy: 0.9519 - val_loss: 0.3948 - val_accuracy: 0.8594\n",
            "Epoch 26/30\n",
            "782/782 [==============================] - 6s 8ms/step - loss: 0.1309 - accuracy: 0.9523 - val_loss: 0.4005 - val_accuracy: 0.8562\n",
            "Epoch 27/30\n",
            "782/782 [==============================] - 7s 8ms/step - loss: 0.1289 - accuracy: 0.9542 - val_loss: 0.4025 - val_accuracy: 0.8615\n",
            "Epoch 28/30\n",
            "782/782 [==============================] - 6s 8ms/step - loss: 0.1244 - accuracy: 0.9556 - val_loss: 0.4147 - val_accuracy: 0.8562\n",
            "Epoch 29/30\n",
            "782/782 [==============================] - 6s 8ms/step - loss: 0.1218 - accuracy: 0.9575 - val_loss: 0.4125 - val_accuracy: 0.8635\n",
            "Epoch 30/30\n",
            "782/782 [==============================] - 6s 8ms/step - loss: 0.1212 - accuracy: 0.9578 - val_loss: 0.4217 - val_accuracy: 0.8552\n"
          ],
          "name": "stdout"
        }
      ]
    },
    {
      "cell_type": "code",
      "metadata": {
        "id": "1vFApqcAsFgK",
        "colab_type": "code",
        "colab": {
          "base_uri": "https://localhost:8080/",
          "height": 67
        },
        "outputId": "3d7bc085-5e75-4a61-ff23-874696ff1f14"
      },
      "source": [
        "loss, accuracy = model.evaluate(test_batches)\n",
        "\n",
        "print(\"Loss: \", loss)\n",
        "print(\"accuracy \", accuracy)"
      ],
      "execution_count": 32,
      "outputs": [
        {
          "output_type": "stream",
          "text": [
            "782/782 [==============================] - 4s 5ms/step - loss: 0.3785 - accuracy: 0.8650\n",
            "Loss:  0.3785175383090973\n",
            "accuracy  0.8649600148200989\n"
          ],
          "name": "stdout"
        }
      ]
    },
    {
      "cell_type": "markdown",
      "metadata": {
        "id": "1uwiGOfxstJX",
        "colab_type": "text"
      },
      "source": [
        "Create a graph of accuracy and loss over time\n",
        "***"
      ]
    },
    {
      "cell_type": "code",
      "metadata": {
        "id": "NjZjLAmmsmba",
        "colab_type": "code",
        "colab": {
          "base_uri": "https://localhost:8080/",
          "height": 34
        },
        "outputId": "417c6a7d-9910-4ee9-ee34-d3c09da37f91"
      },
      "source": [
        "history_dict = history.history\n",
        "history_dict.keys()"
      ],
      "execution_count": 33,
      "outputs": [
        {
          "output_type": "execute_result",
          "data": {
            "text/plain": [
              "dict_keys(['loss', 'accuracy', 'val_loss', 'val_accuracy'])"
            ]
          },
          "metadata": {
            "tags": []
          },
          "execution_count": 33
        }
      ]
    },
    {
      "cell_type": "code",
      "metadata": {
        "id": "GIGSJV2Ms4Pi",
        "colab_type": "code",
        "colab": {
          "base_uri": "https://localhost:8080/",
          "height": 295
        },
        "outputId": "99c58c83-d9bb-4f55-e156-b2070f932b0e"
      },
      "source": [
        "import matplotlib.pyplot as plt\n",
        "\n",
        "acc = history_dict['accuracy']\n",
        "val_acc = history_dict['val_accuracy']\n",
        "loss = history_dict['loss']\n",
        "val_loss = history_dict['val_loss']\n",
        "\n",
        "epochs = range(1, len(acc) + 1)\n",
        "\n",
        "plt.plot(epochs, loss, 'bo', label='Training loss')\n",
        "plt.plot(epochs, val_loss, 'b', label='Validation loss')\n",
        "plt.title('Training and validation loss')\n",
        "plt.xlabel('Epochs')\n",
        "plt.ylabel('Loss')\n",
        "plt.legend()\n",
        "\n",
        "plt.show()"
      ],
      "execution_count": 34,
      "outputs": [
        {
          "output_type": "display_data",
          "data": {
            "image/png": "[encoded data removed]",
            "text/plain": [
              "<Figure size 432x288 with 1 Axes>"
            ]
          },
          "metadata": {
            "tags": [],
            "needs_background": "light"
          }
        }
      ]
    },
    {
      "cell_type": "code",
      "metadata": {
        "id": "1GzcKCDKttpI",
        "colab_type": "code",
        "colab": {
          "base_uri": "https://localhost:8080/",
          "height": 295
        },
        "outputId": "5290f39b-89a3-4761-8ce1-97104d8677f5"
      },
      "source": [
        "plt.clf()\n",
        "\n",
        "plt.plot(epochs, acc, 'bo', label='Training acc')\n",
        "plt.plot(epochs, val_acc, 'b', label='Validation acc')\n",
        "plt.title('Training and validation accuracy')\n",
        "plt.xlabel('Epochs')\n",
        "plt.ylabel('Accuracy')\n",
        "plt.legend(loc='lower right')\n",
        "\n",
        "plt.show()"
      ],
      "execution_count": 35,
      "outputs": [
        {
          "output_type": "display_data",
          "data": {
            "image/png": "[encoded data removed]",
            "text/plain": [
              "<Figure size 432x288 with 1 Axes>"
            ]
          },
          "metadata": {
            "tags": [],
            "needs_background": "light"
          }
        }
      ]
    },
    {
      "cell_type": "code",
      "metadata": {
        "id": "VwNTMoCMt3Z6",
        "colab_type": "code",
        "colab": {
          "base_uri": "https://localhost:8080/",
          "height": 151
        },
        "outputId": "c3ee91f1-69d5-4d16-aed9-2f754cfa6716"
      },
      "source": [
        "word = encoder.encode('hello world my name is shoham')\n",
        "model.predict(word)"
      ],
      "execution_count": 51,
      "outputs": [
        {
          "output_type": "execute_result",
          "data": {
            "text/plain": [
              "array([[-155.11946 ],\n",
              "       [  85.689186],\n",
              "       [ 377.49948 ],\n",
              "       [ 119.38289 ],\n",
              "       [-223.1277  ],\n",
              "       [  59.008972],\n",
              "       [-291.19516 ],\n",
              "       [-293.51434 ]], dtype=float32)"
            ]
          },
          "metadata": {
            "tags": []
          },
          "execution_count": 51
        }
      ]
    },
    {
      "cell_type": "code",
      "metadata": {
        "id": "op4ufRgyvV7F",
        "colab_type": "code",
        "colab": {}
      },
      "source": [
        " "
      ],
      "execution_count": null,
      "outputs": []
    }
  ]
}
