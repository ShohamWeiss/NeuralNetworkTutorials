{
  "nbformat": 4,
  "nbformat_minor": 0,
  "metadata": {
    "colab": {
      "name": "TensorFlow Tutorial 5.ipynb",
      "provenance": [],
      "collapsed_sections": [],
      "authorship_tag": "ABX9TyMrJ1Ic7EKjtfUu50fuvGJn",
      "include_colab_link": true
    },
    "kernelspec": {
      "name": "python3",
      "display_name": "Python 3"
    }
  },
  "cells": [
    {
      "cell_type": "markdown",
      "metadata": {
        "id": "view-in-github",
        "colab_type": "text"
      },
      "source": [
        "<a href=\"https://colab.research.google.com/github/ShohamWeiss/NeuralNetworkTutorials/blob/master/TensorFlow_Tutorial_5.ipynb\" target=\"_parent\"><img src=\"https://colab.research.google.com/assets/colab-badge.svg\" alt=\"Open In Colab\"/></a>"
      ]
    },
    {
      "cell_type": "code",
      "metadata": {
        "id": "A9ubKmtO9UL-",
        "colab_type": "code",
        "colab": {
          "base_uri": "https://localhost:8080/",
          "height": 34
        },
        "outputId": "c4114afd-b4f6-4a52-e1ab-42a7da6f274d"
      },
      "source": [
        "import tensorflow as tf\n",
        "\n",
        "from tensorflow.keras import layers\n",
        "from tensorflow.keras import regularizers\n",
        "\n",
        "print(tf.__version__)"
      ],
      "execution_count": 1,
      "outputs": [
        {
          "output_type": "stream",
          "text": [
            "2.2.0\n"
          ],
          "name": "stdout"
        }
      ]
    },
    {
      "cell_type": "code",
      "metadata": {
        "id": "NC_F5VbL4wkl",
        "colab_type": "code",
        "colab": {
          "base_uri": "https://localhost:8080/",
          "height": 34
        },
        "outputId": "58f15d01-54d5-4813-f64b-c1f987572f56"
      },
      "source": [
        "!pip install -q git+https://github.com/tensorflow/docs"
      ],
      "execution_count": 3,
      "outputs": [
        {
          "output_type": "stream",
          "text": [
            "  Building wheel for tensorflow-docs (setup.py) ... \u001b[?25l\u001b[?25hdone\n"
          ],
          "name": "stdout"
        }
      ]
    },
    {
      "cell_type": "code",
      "metadata": {
        "id": "1b1Y0Cgo5AAh",
        "colab_type": "code",
        "colab": {}
      },
      "source": [
        "import tensorflow_docs as tfdocs\n",
        "import tensorflow_docs.modeling\n",
        "import tensorflow_docs.plots"
      ],
      "execution_count": 4,
      "outputs": []
    },
    {
      "cell_type": "code",
      "metadata": {
        "id": "d-nmpMyA5UL4",
        "colab_type": "code",
        "colab": {}
      },
      "source": [
        "from IPython import display\n",
        "from matplotlib import pyplot as plt\n",
        "\n",
        "import numpy as np\n",
        "\n",
        "import pathlib\n",
        "import shutil\n",
        "import tempfile"
      ],
      "execution_count": 5,
      "outputs": []
    },
    {
      "cell_type": "code",
      "metadata": {
        "id": "dM4njmxT5mUA",
        "colab_type": "code",
        "colab": {}
      },
      "source": [
        "logdir = pathlib.Path(tempfile.mkdtemp())/\"tensorboard_logs\"\n",
        "shutil.rmtree(logdir, ignore_errors=True)"
      ],
      "execution_count": 6,
      "outputs": []
    },
    {
      "cell_type": "markdown",
      "metadata": {
        "id": "JjdlLLaY6EYA",
        "colab_type": "text"
      },
      "source": [
        "The Higgs Dataset"
      ]
    },
    {
      "cell_type": "code",
      "metadata": {
        "id": "ssxOMNrx50UY",
        "colab_type": "code",
        "colab": {
          "base_uri": "https://localhost:8080/",
          "height": 50
        },
        "outputId": "4ae70a5c-2268-44ad-d467-731172f087c4"
      },
      "source": [
        "gz = tf.keras.utils.get_file('HIGGS.csv.gz', 'http://mlphysics.ics.uci.edu/data/higgs/HIGGS.csv.gz')"
      ],
      "execution_count": 7,
      "outputs": [
        {
          "output_type": "stream",
          "text": [
            "Downloading data from http://mlphysics.ics.uci.edu/data/higgs/HIGGS.csv.gz\n",
            "2816409600/2816407858 [==============================] - 56s 0us/step\n"
          ],
          "name": "stdout"
        }
      ]
    },
    {
      "cell_type": "code",
      "metadata": {
        "id": "RWsi9uzY6Y_u",
        "colab_type": "code",
        "colab": {}
      },
      "source": [
        "FEATURES = 28"
      ],
      "execution_count": 8,
      "outputs": []
    },
    {
      "cell_type": "code",
      "metadata": {
        "id": "JsnNS8D96v9B",
        "colab_type": "code",
        "colab": {}
      },
      "source": [
        "# tf.data.experimental.CsvDataset class can be used to read csv from gzip wihout intermediate decompression\n",
        "ds = tf.data.experimental.CsvDataset(gz, [float(),]*(FEATURES+1), compression_type=\"GZIP\")"
      ],
      "execution_count": 9,
      "outputs": []
    },
    {
      "cell_type": "code",
      "metadata": {
        "id": "YsXze66M7UwP",
        "colab_type": "code",
        "colab": {}
      },
      "source": [
        "def pack_row(*row):\n",
        "  label = row[0]\n",
        "  features = tf.stack(row[1:],1)\n",
        "  return features, label"
      ],
      "execution_count": 10,
      "outputs": []
    },
    {
      "cell_type": "code",
      "metadata": {
        "id": "EdtupXDP9swO",
        "colab_type": "code",
        "colab": {
          "base_uri": "https://localhost:8080/",
          "height": 34
        },
        "outputId": "5fb6b5ad-52bf-4a82-f420-80aea9a65834"
      },
      "source": [
        "print(type(ds))\n",
        "packed_ds = ds.batch(10000).map(pack_row).unbatch()"
      ],
      "execution_count": 13,
      "outputs": [
        {
          "output_type": "stream",
          "text": [
            "<class 'tensorflow.python.data.experimental.ops.readers.CsvDatasetV2'>\n"
          ],
          "name": "stdout"
        }
      ]
    },
    {
      "cell_type": "code",
      "metadata": {
        "id": "ApeUldX2-7CZ",
        "colab_type": "code",
        "colab": {
          "base_uri": "https://localhost:8080/",
          "height": 366
        },
        "outputId": "c26ae9dc-3f62-4d5e-dc28-eb029875ee0d"
      },
      "source": [
        "for features, label in packed_ds.batch(1000).take(1):\n",
        "  print(features[0])\n",
        "  plt.hist(features.numpy().flatten(), bins=101)"
      ],
      "execution_count": 17,
      "outputs": [
        {
          "output_type": "stream",
          "text": [
            "tf.Tensor(\n",
            "[ 0.8692932  -0.6350818   0.22569026  0.32747006 -0.6899932   0.75420225\n",
            " -0.24857314 -1.0920639   0.          1.3749921  -0.6536742   0.9303491\n",
            "  1.1074361   1.1389043  -1.5781983  -1.0469854   0.          0.65792954\n",
            " -0.01045457 -0.04576717  3.1019614   1.35376     0.9795631   0.97807616\n",
            "  0.92000484  0.72165745  0.98875093  0.87667835], shape=(28,), dtype=float32)\n"
          ],
          "name": "stdout"
        },
        {
          "output_type": "display_data",
          "data": {
            "image/png": "[encoded data removed]",
            "text/plain": [
              "<Figure size 432x288 with 1 Axes>"
            ]
          },
          "metadata": {
            "tags": [],
            "needs_background": "light"
          }
        }
      ]
    },
    {
      "cell_type": "code",
      "metadata": {
        "id": "CQRZvivtAnaM",
        "colab_type": "code",
        "colab": {}
      },
      "source": [
        "N_VALIDATION = int(1e3)\n",
        "N_TRAIN = int(1e4)\n",
        "BUFFER_SIZE = int(1e4)\n",
        "BATCH_SIZE = 500\n",
        "STEPS_PER_EPOCH = N_TRAIN//BATCH_SIZE"
      ],
      "execution_count": 18,
      "outputs": []
    },
    {
      "cell_type": "code",
      "metadata": {
        "id": "j2mBHjA8Bx_q",
        "colab_type": "code",
        "colab": {}
      },
      "source": [
        "validate_ds = packed_ds.take(N_VALIDATION).cache()\n",
        "train_ds = packed_ds.skip(N_VALIDATION).take(N_TRAIN).cache()"
      ],
      "execution_count": 19,
      "outputs": []
    },
    {
      "cell_type": "code",
      "metadata": {
        "id": "SBvem4RDCWse",
        "colab_type": "code",
        "colab": {
          "base_uri": "https://localhost:8080/",
          "height": 34
        },
        "outputId": "f1441e74-c3d5-45cc-f9b8-7b40939ae5e8"
      },
      "source": [
        "train_ds"
      ],
      "execution_count": 20,
      "outputs": [
        {
          "output_type": "execute_result",
          "data": {
            "text/plain": [
              "<CacheDataset shapes: ((28,), ()), types: (tf.float32, tf.float32)>"
            ]
          },
          "metadata": {
            "tags": []
          },
          "execution_count": 20
        }
      ]
    },
    {
      "cell_type": "code",
      "metadata": {
        "id": "jXYsvS2VCX8u",
        "colab_type": "code",
        "colab": {}
      },
      "source": [
        "validate_ds = validate_ds.batch(BATCH_SIZE)\n",
        "train_ds = train_ds.shuffle(BUFFER_SIZE).repeat().batch(BATCH_SIZE)"
      ],
      "execution_count": 21,
      "outputs": []
    },
    {
      "cell_type": "markdown",
      "metadata": {
        "id": "gvMaGZ1DD3yv",
        "colab_type": "text"
      },
      "source": [
        "Training Procedure"
      ]
    },
    {
      "cell_type": "code",
      "metadata": {
        "id": "dES-cfizDser",
        "colab_type": "code",
        "colab": {}
      },
      "source": [
        "lr_schedule = tf.keras.optimizers.schedules.InverseTimeDecay(\n",
        "    0.001,\n",
        "    decay_steps=STEPS_PER_EPOCH*1000,\n",
        "    decay_rate=1,\n",
        "    staircase=False)"
      ],
      "execution_count": 22,
      "outputs": []
    },
    {
      "cell_type": "code",
      "metadata": {
        "id": "GhJseILKN6wo",
        "colab_type": "code",
        "colab": {}
      },
      "source": [
        "def get_optimizer():\n",
        "  return tf.keras.optimizers.Adam(lr_schedule)"
      ],
      "execution_count": 23,
      "outputs": []
    },
    {
      "cell_type": "code",
      "metadata": {
        "id": "dRX8il1LOCfk",
        "colab_type": "code",
        "colab": {
          "base_uri": "https://localhost:8080/",
          "height": 388
        },
        "outputId": "7c7a0838-7007-4523-a139-24b276a48f0f"
      },
      "source": [
        "step = np.linspace(0, 100000)\n",
        "lr = lr_schedule(step)\n",
        "plt.figure(figsize= (8,6))\n",
        "plt.plot(step/STEPS_PER_EPOCH, lr)\n",
        "plt.ylim([0,max(plt.ylim())])\n",
        "plt.xlabel('Epoch')\n",
        "_ = plt.ylabel('Learning Rate')"
      ],
      "execution_count": 25,
      "outputs": [
        {
          "output_type": "display_data",
          "data": {
            "image/png": "[encoded data removed]",
            "text/plain": [
              "<Figure size 576x432 with 1 Axes>"
            ]
          },
          "metadata": {
            "tags": [],
            "needs_background": "light"
          }
        }
      ]
    },
    {
      "cell_type": "code",
      "metadata": {
        "id": "P2751v0iO3gg",
        "colab_type": "code",
        "colab": {}
      },
      "source": [
        "def get_callbacks(name):\n",
        "  return [\n",
        "  tfdocs.modeling.EpochDots(),\n",
        "  tf.keras.callbacks.EarlyStopping(monitor='val_binary_crossentropy', patience=200),\n",
        "  tf.keras.callbacks.TensorBoard(logdir/name),\n",
        "  ]"
      ],
      "execution_count": 26,
      "outputs": []
    },
    {
      "cell_type": "code",
      "metadata": {
        "id": "Mxgyx0trQIv4",
        "colab_type": "code",
        "colab": {}
      },
      "source": [
        "def compile_and_fit(model, name, optimizer=None, max_epochs=10000):\n",
        "  if optimizer is None:\n",
        "    optimizer = get_optimizer()\n",
        "  model.compile(optimizer=optimizer,\n",
        "                loss=tf.keras.losses.BinaryCrossentropy(from_logits=True),\n",
        "                metrics=[\n",
        "                  tf.keras.losses.BinaryCrossentropy(from_logits=True, name='binary_crossentropy'),\n",
        "                  'accuracy'])\n",
        "  \n",
        "  model.summary()\n",
        "\n",
        "  history = model.fit(\n",
        "      train_ds,\n",
        "      steps_per_epoch = STEPS_PER_EPOCH,\n",
        "      epochs=max_epochs,\n",
        "      validation_data=validate_ds,\n",
        "      callbacks=get_callbacks(name),\n",
        "      verbose=0\n",
        "  )\n",
        "  return history"
      ],
      "execution_count": 27,
      "outputs": []
    },
    {
      "cell_type": "markdown",
      "metadata": {
        "id": "dSPDnaUORlnn",
        "colab_type": "text"
      },
      "source": [
        "Tiny Model"
      ]
    },
    {
      "cell_type": "code",
      "metadata": {
        "id": "4Dd-HENiRT7Y",
        "colab_type": "code",
        "colab": {}
      },
      "source": [
        "tiny_model = tf.keras.Sequential([\n",
        "    layers.Dense(16, activation='elu', input_shape=(FEATURES,)),\n",
        "    layers.Dense(1)\n",
        "])"
      ],
      "execution_count": 28,
      "outputs": []
    },
    {
      "cell_type": "code",
      "metadata": {
        "id": "t2ZzXYazR4eb",
        "colab_type": "code",
        "colab": {}
      },
      "source": [
        "size_histories = {}"
      ],
      "execution_count": 29,
      "outputs": []
    },
    {
      "cell_type": "code",
      "metadata": {
        "id": "YzcYu4bmR8AL",
        "colab_type": "code",
        "colab": {
          "base_uri": "https://localhost:8080/",
          "height": 1000
        },
        "outputId": "a452e105-1598-49e5-eb42-ab7725c9f712"
      },
      "source": [
        "size_histories['Tiny'] = compile_and_fit(tiny_model, 'sizes/Tiny')"
      ],
      "execution_count": 30,
      "outputs": [
        {
          "output_type": "stream",
          "text": [
            "Model: \"sequential\"\n",
            "_________________________________________________________________\n",
            "Layer (type)                 Output Shape              Param #   \n",
            "=================================================================\n",
            "dense (Dense)                (None, 16)                464       \n",
            "_________________________________________________________________\n",
            "dense_1 (Dense)              (None, 1)                 17        \n",
            "=================================================================\n",
            "Total params: 481\n",
            "Trainable params: 481\n",
            "Non-trainable params: 0\n",
            "_________________________________________________________________\n",
            "\n",
            "Epoch: 0, accuracy:0.5040,  binary_crossentropy:0.7685,  loss:0.7685,  val_accuracy:0.5090,  val_binary_crossentropy:0.7225,  val_loss:0.7225,  \n",
            "....................................................................................................\n",
            "Epoch: 100, accuracy:0.6036,  binary_crossentropy:0.6244,  loss:0.6244,  val_accuracy:0.5830,  val_binary_crossentropy:0.6258,  val_loss:0.6258,  \n",
            "....................................................................................................\n",
            "Epoch: 200, accuracy:0.6330,  binary_crossentropy:0.6091,  loss:0.6091,  val_accuracy:0.6170,  val_binary_crossentropy:0.6097,  val_loss:0.6097,  \n",
            "....................................................................................................\n",
            "Epoch: 300, accuracy:0.6442,  binary_crossentropy:0.5986,  loss:0.5986,  val_accuracy:0.6390,  val_binary_crossentropy:0.6001,  val_loss:0.6001,  \n",
            "....................................................................................................\n",
            "Epoch: 400, accuracy:0.6585,  binary_crossentropy:0.5925,  loss:0.5925,  val_accuracy:0.6230,  val_binary_crossentropy:0.5978,  val_loss:0.5978,  \n",
            "....................................................................................................\n",
            "Epoch: 500, accuracy:0.6635,  binary_crossentropy:0.5875,  loss:0.5875,  val_accuracy:0.6510,  val_binary_crossentropy:0.5941,  val_loss:0.5941,  \n",
            "....................................................................................................\n",
            "Epoch: 600, accuracy:0.6705,  binary_crossentropy:0.5847,  loss:0.5847,  val_accuracy:0.6610,  val_binary_crossentropy:0.5915,  val_loss:0.5915,  \n",
            "....................................................................................................\n",
            "Epoch: 700, accuracy:0.6717,  binary_crossentropy:0.5824,  loss:0.5824,  val_accuracy:0.6560,  val_binary_crossentropy:0.5899,  val_loss:0.5899,  \n",
            "....................................................................................................\n",
            "Epoch: 800, accuracy:0.6699,  binary_crossentropy:0.5803,  loss:0.5803,  val_accuracy:0.6540,  val_binary_crossentropy:0.5903,  val_loss:0.5903,  \n",
            "....................................................................................................\n",
            "Epoch: 900, accuracy:0.6718,  binary_crossentropy:0.5789,  loss:0.5789,  val_accuracy:0.6820,  val_binary_crossentropy:0.5874,  val_loss:0.5874,  \n",
            "....................................................................................................\n",
            "Epoch: 1000, accuracy:0.6723,  binary_crossentropy:0.5770,  loss:0.5770,  val_accuracy:0.6840,  val_binary_crossentropy:0.5870,  val_loss:0.5870,  \n",
            "....................................................................................................\n",
            "Epoch: 1100, accuracy:0.6767,  binary_crossentropy:0.5758,  loss:0.5758,  val_accuracy:0.6670,  val_binary_crossentropy:0.5865,  val_loss:0.5865,  \n",
            "....................................................................................................\n",
            "Epoch: 1200, accuracy:0.6761,  binary_crossentropy:0.5747,  loss:0.5747,  val_accuracy:0.6820,  val_binary_crossentropy:0.5846,  val_loss:0.5846,  \n",
            "....................................................................................................\n",
            "Epoch: 1300, accuracy:0.6789,  binary_crossentropy:0.5733,  loss:0.5733,  val_accuracy:0.6720,  val_binary_crossentropy:0.5843,  val_loss:0.5843,  \n",
            "....................................................................................................\n",
            "Epoch: 1400, accuracy:0.6840,  binary_crossentropy:0.5728,  loss:0.5728,  val_accuracy:0.6660,  val_binary_crossentropy:0.5845,  val_loss:0.5845,  \n",
            "....................................................................................................\n",
            "Epoch: 1500, accuracy:0.6828,  binary_crossentropy:0.5712,  loss:0.5712,  val_accuracy:0.6660,  val_binary_crossentropy:0.5833,  val_loss:0.5833,  \n",
            "....................................................................................................\n",
            "Epoch: 1600, accuracy:0.6834,  binary_crossentropy:0.5705,  loss:0.5705,  val_accuracy:0.6640,  val_binary_crossentropy:0.5829,  val_loss:0.5829,  \n",
            "....................................................................................................\n",
            "Epoch: 1700, accuracy:0.6829,  binary_crossentropy:0.5697,  loss:0.5697,  val_accuracy:0.6670,  val_binary_crossentropy:0.5819,  val_loss:0.5819,  \n",
            "....................................................................................................\n",
            "Epoch: 1800, accuracy:0.6848,  binary_crossentropy:0.5687,  loss:0.5687,  val_accuracy:0.6610,  val_binary_crossentropy:0.5828,  val_loss:0.5828,  \n",
            "....................................................................................................\n",
            "Epoch: 1900, accuracy:0.6864,  binary_crossentropy:0.5682,  loss:0.5682,  val_accuracy:0.6610,  val_binary_crossentropy:0.5821,  val_loss:0.5821,  \n",
            "....................................................................................................\n",
            "Epoch: 2000, accuracy:0.6899,  binary_crossentropy:0.5672,  loss:0.5672,  val_accuracy:0.6620,  val_binary_crossentropy:0.5815,  val_loss:0.5815,  \n",
            "....................................................................................................\n",
            "Epoch: 2100, accuracy:0.6884,  binary_crossentropy:0.5668,  loss:0.5668,  val_accuracy:0.6650,  val_binary_crossentropy:0.5817,  val_loss:0.5817,  \n",
            "....................................................................................................\n",
            "Epoch: 2200, accuracy:0.6889,  binary_crossentropy:0.5661,  loss:0.5661,  val_accuracy:0.6680,  val_binary_crossentropy:0.5810,  val_loss:0.5810,  \n",
            "....................................................................................................\n",
            "Epoch: 2300, accuracy:0.6891,  binary_crossentropy:0.5654,  loss:0.5654,  val_accuracy:0.6740,  val_binary_crossentropy:0.5810,  val_loss:0.5810,  \n",
            "........................................................................................."
          ],
          "name": "stdout"
        }
      ]
    },
    {
      "cell_type": "code",
      "metadata": {
        "id": "MkT4JMzFSFJ7",
        "colab_type": "code",
        "colab": {
          "base_uri": "https://localhost:8080/",
          "height": 300
        },
        "outputId": "83292a23-eb07-4d85-de1c-911d21541e70"
      },
      "source": [
        "plotter = tfdocs.plots.HistoryPlotter(metric='binary_crossentropy', smoothing_std=10)\n",
        "plotter.plot(size_histories)\n",
        "plt.ylim([0.5, 0.7])"
      ],
      "execution_count": 31,
      "outputs": [
        {
          "output_type": "execute_result",
          "data": {
            "text/plain": [
              "(0.5, 0.7)"
            ]
          },
          "metadata": {
            "tags": []
          },
          "execution_count": 31
        },
        {
          "output_type": "display_data",
          "data": {
            "image/png": "[encoded data removed]",
            "text/plain": [
              "<Figure size 432x288 with 1 Axes>"
            ]
          },
          "metadata": {
            "tags": [],
            "needs_background": "light"
          }
        }
      ]
    },
    {
      "cell_type": "markdown",
      "metadata": {
        "id": "Grgzzsl8ULX2",
        "colab_type": "text"
      },
      "source": [
        "Small Model"
      ]
    },
    {
      "cell_type": "code",
      "metadata": {
        "id": "lPLdaN5QUEVP",
        "colab_type": "code",
        "colab": {}
      },
      "source": [
        "small_model = tf.keras.Sequential([\n",
        "    # input_shape is only required here so that '.summary' works.\n",
        "    layers.Dense(16, activation='elu', input_shape=(FEATURES,)),\n",
        "    layers.Dense(16, activation='elu'),\n",
        "    layers.Dense(1)\n",
        "])"
      ],
      "execution_count": 33,
      "outputs": []
    },
    {
      "cell_type": "code",
      "metadata": {
        "id": "W44J5syMUnd8",
        "colab_type": "code",
        "colab": {
          "base_uri": "https://localhost:8080/",
          "height": 538
        },
        "outputId": "78c78df5-4f2e-4a38-863d-adc1e5c50fc9"
      },
      "source": [
        "size_histories['Small'] = compile_and_fit(small_model, 'sizes/Small')"
      ],
      "execution_count": 34,
      "outputs": [
        {
          "output_type": "stream",
          "text": [
            "Model: \"sequential_2\"\n",
            "_________________________________________________________________\n",
            "Layer (type)                 Output Shape              Param #   \n",
            "=================================================================\n",
            "dense_5 (Dense)              (None, 16)                464       \n",
            "_________________________________________________________________\n",
            "dense_6 (Dense)              (None, 16)                272       \n",
            "_________________________________________________________________\n",
            "dense_7 (Dense)              (None, 1)                 17        \n",
            "=================================================================\n",
            "Total params: 753\n",
            "Trainable params: 753\n",
            "Non-trainable params: 0\n",
            "_________________________________________________________________\n",
            "\n",
            "Epoch: 0, accuracy:0.4653,  binary_crossentropy:0.7585,  loss:0.7585,  val_accuracy:0.4490,  val_binary_crossentropy:0.7212,  val_loss:0.7212,  \n",
            "....................................................................................................\n",
            "Epoch: 100, accuracy:0.6352,  binary_crossentropy:0.6043,  loss:0.6043,  val_accuracy:0.6040,  val_binary_crossentropy:0.6106,  val_loss:0.6106,  \n",
            "....................................................................................................\n",
            "Epoch: 200, accuracy:0.6660,  binary_crossentropy:0.5829,  loss:0.5829,  val_accuracy:0.6620,  val_binary_crossentropy:0.5928,  val_loss:0.5928,  \n",
            "....................................................................................................\n",
            "Epoch: 300, accuracy:0.6830,  binary_crossentropy:0.5727,  loss:0.5727,  val_accuracy:0.6580,  val_binary_crossentropy:0.5893,  val_loss:0.5893,  \n",
            "....................................................................................................\n",
            "Epoch: 400, accuracy:0.6892,  binary_crossentropy:0.5671,  loss:0.5671,  val_accuracy:0.6650,  val_binary_crossentropy:0.5888,  val_loss:0.5888,  \n",
            "....................................................................................................\n",
            "Epoch: 500, accuracy:0.6897,  binary_crossentropy:0.5621,  loss:0.5621,  val_accuracy:0.6750,  val_binary_crossentropy:0.5845,  val_loss:0.5845,  \n",
            "....................................................................................................\n",
            "Epoch: 600, accuracy:0.6962,  binary_crossentropy:0.5584,  loss:0.5584,  val_accuracy:0.6690,  val_binary_crossentropy:0.5859,  val_loss:0.5859,  \n",
            "....................................................................................................\n",
            "Epoch: 700, accuracy:0.6984,  binary_crossentropy:0.5554,  loss:0.5554,  val_accuracy:0.6700,  val_binary_crossentropy:0.5861,  val_loss:0.5861,  \n",
            "....................................................."
          ],
          "name": "stdout"
        }
      ]
    },
    {
      "cell_type": "markdown",
      "metadata": {
        "id": "vXTXMv6HU7TZ",
        "colab_type": "text"
      },
      "source": [
        "Medium Model"
      ]
    },
    {
      "cell_type": "code",
      "metadata": {
        "id": "1n9AWI_yUwlF",
        "colab_type": "code",
        "colab": {}
      },
      "source": [
        "medium_model = tf.keras.Sequential([\n",
        "    layers.Dense(64, activation='elu', input_shape=(FEATURES,)),\n",
        "    layers.Dense(64, activation='elu'),\n",
        "    layers.Dense(64, activation='elu'),\n",
        "    layers.Dense(1)\n",
        "])"
      ],
      "execution_count": 35,
      "outputs": []
    },
    {
      "cell_type": "code",
      "metadata": {
        "id": "g4AhI5XTVX_e",
        "colab_type": "code",
        "colab": {
          "base_uri": "https://localhost:8080/",
          "height": 403
        },
        "outputId": "2aee14f3-5512-4f3d-e6f3-bd91cbef5dec"
      },
      "source": [
        "size_histories['Medium'] = compile_and_fit(medium_model, \"sizes/Medium\")"
      ],
      "execution_count": 38,
      "outputs": [
        {
          "output_type": "stream",
          "text": [
            "Model: \"sequential_3\"\n",
            "_________________________________________________________________\n",
            "Layer (type)                 Output Shape              Param #   \n",
            "=================================================================\n",
            "dense_8 (Dense)              (None, 64)                1856      \n",
            "_________________________________________________________________\n",
            "dense_9 (Dense)              (None, 64)                4160      \n",
            "_________________________________________________________________\n",
            "dense_10 (Dense)             (None, 64)                4160      \n",
            "_________________________________________________________________\n",
            "dense_11 (Dense)             (None, 1)                 65        \n",
            "=================================================================\n",
            "Total params: 10,241\n",
            "Trainable params: 10,241\n",
            "Non-trainable params: 0\n",
            "_________________________________________________________________\n",
            "\n",
            "Epoch: 0, accuracy:0.4902,  binary_crossentropy:0.6990,  loss:0.6990,  val_accuracy:0.4780,  val_binary_crossentropy:0.6815,  val_loss:0.6815,  \n",
            "....................................................................................................\n",
            "Epoch: 100, accuracy:0.7118,  binary_crossentropy:0.5351,  loss:0.5351,  val_accuracy:0.6520,  val_binary_crossentropy:0.6068,  val_loss:0.6068,  \n",
            "....................................................................................................\n",
            "Epoch: 200, accuracy:0.7828,  binary_crossentropy:0.4342,  loss:0.4342,  val_accuracy:0.6400,  val_binary_crossentropy:0.7087,  val_loss:0.7087,  \n",
            ".................................................................."
          ],
          "name": "stdout"
        }
      ]
    },
    {
      "cell_type": "markdown",
      "metadata": {
        "id": "VzNtTL6dVjvQ",
        "colab_type": "text"
      },
      "source": [
        "Large Model"
      ]
    },
    {
      "cell_type": "code",
      "metadata": {
        "id": "OIFqsrwnVe3K",
        "colab_type": "code",
        "colab": {}
      },
      "source": [
        "large_model = tf.keras.Sequential([\n",
        "    layers.Dense(512, activation='elu', input_shape=(FEATURES,)),\n",
        "    layers.Dense(512, activation='elu'),\n",
        "    layers.Dense(512, activation='elu'),\n",
        "    layers.Dense(512, activation='elu'),\n",
        "    layers.Dense(1)\n",
        "    ])"
      ],
      "execution_count": 39,
      "outputs": []
    },
    {
      "cell_type": "code",
      "metadata": {
        "id": "iq27g5BMV_tn",
        "colab_type": "code",
        "colab": {
          "base_uri": "https://localhost:8080/",
          "height": 437
        },
        "outputId": "1d5faee2-1a63-48a1-b948-fa63de9628a7"
      },
      "source": [
        "size_histories['large'] = compile_and_fit(large_model, \"sizes/large\")"
      ],
      "execution_count": 40,
      "outputs": [
        {
          "output_type": "stream",
          "text": [
            "Model: \"sequential_4\"\n",
            "_________________________________________________________________\n",
            "Layer (type)                 Output Shape              Param #   \n",
            "=================================================================\n",
            "dense_12 (Dense)             (None, 512)               14848     \n",
            "_________________________________________________________________\n",
            "dense_13 (Dense)             (None, 512)               262656    \n",
            "_________________________________________________________________\n",
            "dense_14 (Dense)             (None, 512)               262656    \n",
            "_________________________________________________________________\n",
            "dense_15 (Dense)             (None, 512)               262656    \n",
            "_________________________________________________________________\n",
            "dense_16 (Dense)             (None, 1)                 513       \n",
            "=================================================================\n",
            "Total params: 803,329\n",
            "Trainable params: 803,329\n",
            "Non-trainable params: 0\n",
            "_________________________________________________________________\n",
            "\n",
            "Epoch: 0, accuracy:0.5077,  binary_crossentropy:0.7472,  loss:0.7472,  val_accuracy:0.4700,  val_binary_crossentropy:0.6978,  val_loss:0.6978,  \n",
            "....................................................................................................\n",
            "Epoch: 100, accuracy:1.0000,  binary_crossentropy:0.0018,  loss:0.0018,  val_accuracy:0.6640,  val_binary_crossentropy:1.8109,  val_loss:1.8109,  \n",
            "....................................................................................................\n",
            "Epoch: 200, accuracy:1.0000,  binary_crossentropy:0.0001,  loss:0.0001,  val_accuracy:0.6580,  val_binary_crossentropy:2.4359,  val_loss:2.4359,  \n",
            ".............................."
          ],
          "name": "stdout"
        }
      ]
    },
    {
      "cell_type": "code",
      "metadata": {
        "id": "9B4Tp6HTWGZK",
        "colab_type": "code",
        "colab": {
          "base_uri": "https://localhost:8080/",
          "height": 413
        },
        "outputId": "01603101-3981-400b-e8a5-f0ea65bc6aed"
      },
      "source": [
        "plt.figure(figsize=(8,6))\n",
        "plotter.plot(size_histories)\n",
        "a = plt.xscale('log')\n",
        "plt.xlim([5, max(plt.xlim())])\n",
        "plt.ylim([0.5, 0.7])\n",
        "plt.xlabel(\"Epochs [Log Scale]\")"
      ],
      "execution_count": 45,
      "outputs": [
        {
          "output_type": "execute_result",
          "data": {
            "text/plain": [
              "Text(0.5, 0, 'Epochs [Log Scale]')"
            ]
          },
          "metadata": {
            "tags": []
          },
          "execution_count": 45
        },
        {
          "output_type": "display_data",
          "data": {
            "image/png": "[encoded data removed]",
            "text/plain": [
              "<Figure size 576x432 with 1 Axes>"
            ]
          },
          "metadata": {
            "tags": [],
            "needs_background": "light"
          }
        }
      ]
    },
    {
      "cell_type": "code",
      "metadata": {
        "id": "lmD2wDYYX3Bt",
        "colab_type": "code",
        "colab": {}
      },
      "source": [
        "# %load_ext tensorboard\n",
        "%tensorboard  --logdir {logdir}/sizes"
      ],
      "execution_count": null,
      "outputs": []
    },
    {
      "cell_type": "code",
      "metadata": {
        "id": "Gz8r5hhwZl5T",
        "colab_type": "code",
        "colab": {}
      },
      "source": [
        "display.IFrame(\n",
        "    src=\"https://tensorboard.dev/experiment/vW7jmmF9TmKmy3rbheMQpw/#scalars&_smoothingWeight=0.97\",\n",
        "    width=\"100%\", height=\"800px\")"
      ],
      "execution_count": null,
      "outputs": []
    },
    {
      "cell_type": "code",
      "metadata": {
        "id": "9fLz0SW7dq28",
        "colab_type": "code",
        "colab": {}
      },
      "source": [
        "tensorboard dev upload --logdir {logdir}/sizes"
      ],
      "execution_count": null,
      "outputs": []
    },
    {
      "cell_type": "markdown",
      "metadata": {
        "id": "BZojrbbveOJq",
        "colab_type": "text"
      },
      "source": [
        "To prevent overfitting"
      ]
    },
    {
      "cell_type": "code",
      "metadata": {
        "id": "xA9qWbwEd_Ae",
        "colab_type": "code",
        "colab": {
          "base_uri": "https://localhost:8080/",
          "height": 34
        },
        "outputId": "83877f0a-c21f-48ae-c416-acc16a66f987"
      },
      "source": [
        "shutil.rmtree(logdir/'regularizers/Tiny', ignore_errors=True)\n",
        "shutil.copytree(logdir/'sizes/Tiny', logdir/'regularizers/Tiny')"
      ],
      "execution_count": 57,
      "outputs": [
        {
          "output_type": "execute_result",
          "data": {
            "text/plain": [
              "PosixPath('/tmp/tmpdvh6o9cl/tensorboard_logs/regularizers/Tiny')"
            ]
          },
          "metadata": {
            "tags": []
          },
          "execution_count": 57
        }
      ]
    },
    {
      "cell_type": "code",
      "metadata": {
        "id": "enamKKv5eijB",
        "colab_type": "code",
        "colab": {}
      },
      "source": [
        "regularizer_histories = {}\n",
        "regularizer_histories['Tiny'] = size_histories['Tiny']"
      ],
      "execution_count": 58,
      "outputs": []
    },
    {
      "cell_type": "code",
      "metadata": {
        "id": "znRWWu52e0BA",
        "colab_type": "code",
        "colab": {}
      },
      "source": [
        "l2_model = tf.keras.Sequential([\n",
        "    layers.Dense(512, activation='elu',\n",
        "                 kernel_regularizer=regularizers.l2(0.001),\n",
        "                 input_shape=(FEATURES,)),\n",
        "    layers.Dense(512, activation='elu',\n",
        "                 kernel_regularizer=regularizers.l2(0.001)),\n",
        "    layers.Dense(512, activation='elu',\n",
        "                 kernel_regularizer=regularizers.l2(0.001)),\n",
        "    layers.Dense(512, activation='elu',\n",
        "                 kernel_regularizer=regularizers.l2(0.001)),\n",
        "    layers.Dense(1)\n",
        "])"
      ],
      "execution_count": 60,
      "outputs": []
    },
    {
      "cell_type": "code",
      "metadata": {
        "id": "2VOu7NZpoA7D",
        "colab_type": "code",
        "colab": {
          "base_uri": "https://localhost:8080/",
          "height": 470
        },
        "outputId": "3609aef6-f048-47fb-f17d-8f2294fdd5bb"
      },
      "source": [
        "regularizer_histories['l2'] = compile_and_fit(l2_model, 'regularizers/l2')"
      ],
      "execution_count": 61,
      "outputs": [
        {
          "output_type": "stream",
          "text": [
            "Model: \"sequential_5\"\n",
            "_________________________________________________________________\n",
            "Layer (type)                 Output Shape              Param #   \n",
            "=================================================================\n",
            "dense_17 (Dense)             (None, 512)               14848     \n",
            "_________________________________________________________________\n",
            "dense_18 (Dense)             (None, 512)               262656    \n",
            "_________________________________________________________________\n",
            "dense_19 (Dense)             (None, 512)               262656    \n",
            "_________________________________________________________________\n",
            "dense_20 (Dense)             (None, 512)               262656    \n",
            "_________________________________________________________________\n",
            "dense_21 (Dense)             (None, 1)                 513       \n",
            "=================================================================\n",
            "Total params: 803,329\n",
            "Trainable params: 803,329\n",
            "Non-trainable params: 0\n",
            "_________________________________________________________________\n",
            "\n",
            "Epoch: 0, accuracy:0.5122,  binary_crossentropy:0.7238,  loss:2.1999,  val_accuracy:0.4750,  val_binary_crossentropy:0.7156,  val_loss:2.0790,  \n",
            "....................................................................................................\n",
            "Epoch: 100, accuracy:0.6509,  binary_crossentropy:0.5986,  loss:0.6202,  val_accuracy:0.6480,  val_binary_crossentropy:0.5857,  val_loss:0.6072,  \n",
            "....................................................................................................\n",
            "Epoch: 200, accuracy:0.6741,  binary_crossentropy:0.5811,  loss:0.6022,  val_accuracy:0.6630,  val_binary_crossentropy:0.5818,  val_loss:0.6027,  \n",
            "....................................................................................................\n",
            "Epoch: 300, accuracy:0.6730,  binary_crossentropy:0.5804,  loss:0.6026,  val_accuracy:0.6850,  val_binary_crossentropy:0.5835,  val_loss:0.6063,  \n",
            "....................................................."
          ],
          "name": "stdout"
        }
      ]
    },
    {
      "cell_type": "code",
      "metadata": {
        "id": "CmBkbVUioXon",
        "colab_type": "code",
        "colab": {
          "base_uri": "https://localhost:8080/",
          "height": 300
        },
        "outputId": "797f5710-47cc-435a-87d0-d7836eae926f"
      },
      "source": [
        "plotter.plot(regularizer_histories)\n",
        "plt.ylim([0.5, 0.7])"
      ],
      "execution_count": 62,
      "outputs": [
        {
          "output_type": "execute_result",
          "data": {
            "text/plain": [
              "(0.5, 0.7)"
            ]
          },
          "metadata": {
            "tags": []
          },
          "execution_count": 62
        },
        {
          "output_type": "display_data",
          "data": {
            "image/png": "[encoded data removed]",
            "text/plain": [
              "<Figure size 432x288 with 1 Axes>"
            ]
          },
          "metadata": {
            "tags": [],
            "needs_background": "light"
          }
        }
      ]
    },
    {
      "cell_type": "code",
      "metadata": {
        "id": "N24bJNxOqT2l",
        "colab_type": "code",
        "colab": {}
      },
      "source": [
        "result = l2_model(features)\n",
        "regularization_loss = tf.add_n(l2_model.losses)"
      ],
      "execution_count": 63,
      "outputs": []
    },
    {
      "cell_type": "code",
      "metadata": {
        "id": "9blISyBrqwPF",
        "colab_type": "code",
        "colab": {
          "base_uri": "https://localhost:8080/",
          "height": 571
        },
        "outputId": "e9ffdea1-ecae-490d-cf2a-a9935f1d8f32"
      },
      "source": [
        "dropout_model = tf.keras.Sequential([\n",
        "    layers.Dense(512, activation='elu', input_shape=(FEATURES,)),\n",
        "    layers.Dropout(0.5),\n",
        "    layers.Dense(512, activation='relu'),\n",
        "    layers.Dropout(0.5),\n",
        "    layers.Dense(512, activation='relu'),\n",
        "    layers.Dropout(0.5),\n",
        "    layers.Dense(512, activation='relu'),\n",
        "    layers.Dropout(0.5),\n",
        "    layers.Dense(1),\n",
        "])\n",
        "\n",
        "regularizer_histories['dropout'] = compile_and_fit(dropout_model, \"regularizers/dropout\")"
      ],
      "execution_count": 65,
      "outputs": [
        {
          "output_type": "stream",
          "text": [
            "Model: \"sequential_6\"\n",
            "_________________________________________________________________\n",
            "Layer (type)                 Output Shape              Param #   \n",
            "=================================================================\n",
            "dense_23 (Dense)             (None, 512)               14848     \n",
            "_________________________________________________________________\n",
            "dropout (Dropout)            (None, 512)               0         \n",
            "_________________________________________________________________\n",
            "dense_24 (Dense)             (None, 512)               262656    \n",
            "_________________________________________________________________\n",
            "dropout_1 (Dropout)          (None, 512)               0         \n",
            "_________________________________________________________________\n",
            "dense_25 (Dense)             (None, 512)               262656    \n",
            "_________________________________________________________________\n",
            "dropout_2 (Dropout)          (None, 512)               0         \n",
            "_________________________________________________________________\n",
            "dense_26 (Dense)             (None, 512)               262656    \n",
            "_________________________________________________________________\n",
            "dropout_3 (Dropout)          (None, 512)               0         \n",
            "_________________________________________________________________\n",
            "dense_27 (Dense)             (None, 1)                 513       \n",
            "=================================================================\n",
            "Total params: 803,329\n",
            "Trainable params: 803,329\n",
            "Non-trainable params: 0\n",
            "_________________________________________________________________\n",
            "\n",
            "Epoch: 0, accuracy:0.4810,  binary_crossentropy:0.7257,  loss:0.7257,  val_accuracy:0.4600,  val_binary_crossentropy:0.6877,  val_loss:0.6877,  \n",
            "....................................................................................................\n",
            "Epoch: 100, accuracy:0.7012,  binary_crossentropy:0.5358,  loss:0.5358,  val_accuracy:0.6620,  val_binary_crossentropy:0.5942,  val_loss:0.5942,  \n",
            "....................................................................................................\n",
            "Epoch: 200, accuracy:0.7747,  binary_crossentropy:0.4442,  loss:0.4442,  val_accuracy:0.6680,  val_binary_crossentropy:0.6137,  val_loss:0.6137,  \n",
            "..........................................................."
          ],
          "name": "stdout"
        }
      ]
    },
    {
      "cell_type": "code",
      "metadata": {
        "id": "d3f9nIT7sFGR",
        "colab_type": "code",
        "colab": {
          "base_uri": "https://localhost:8080/",
          "height": 300
        },
        "outputId": "3a2ee59b-3d71-4ec7-ffa6-138be519f35b"
      },
      "source": [
        "plotter.plot(regularizer_histories)\n",
        "plt.ylim([0.5, 0.7])"
      ],
      "execution_count": 67,
      "outputs": [
        {
          "output_type": "execute_result",
          "data": {
            "text/plain": [
              "(0.5, 0.7)"
            ]
          },
          "metadata": {
            "tags": []
          },
          "execution_count": 67
        },
        {
          "output_type": "display_data",
          "data": {
            "image/png": "[encoded data removed]",
            "text/plain": [
              "<Figure size 432x288 with 1 Axes>"
            ]
          },
          "metadata": {
            "tags": [],
            "needs_background": "light"
          }
        }
      ]
    },
    {
      "cell_type": "code",
      "metadata": {
        "id": "eDazizFstlH3",
        "colab_type": "code",
        "colab": {
          "base_uri": "https://localhost:8080/",
          "height": 907
        },
        "outputId": "8e701244-dd51-4fc4-9527-99856387e2ec"
      },
      "source": [
        "combined_model = tf.keras.Sequential([\n",
        "    layers.Dense(512, kernel_regularizer=regularizers.l2(0.0001),\n",
        "                 activation='elu', input_shape=(FEATURES,)),\n",
        "    layers.Dropout(0.5),\n",
        "    layers.Dense(512, kernel_regularizer=regularizers.l2(0.0001), \n",
        "                 activation='elu'),\n",
        "    layers.Dropout(0.5),\n",
        "    layers.Dense(512, kernel_regularizer=regularizers.l2(0.0001), \n",
        "                 activation='elu'),\n",
        "    layers.Dropout(0.5),\n",
        "    layers.Dense(512, kernel_regularizer=regularizers.l2(0.0001), \n",
        "                 activation='elu'),\n",
        "    layers.Dropout(0.5),\n",
        "    layers.Dense(1)\n",
        "])\n",
        "\n",
        "regularizer_histories['combined'] = compile_and_fit(combined_model, \"regularizers/combined\")"
      ],
      "execution_count": 68,
      "outputs": [
        {
          "output_type": "stream",
          "text": [
            "Model: \"sequential_7\"\n",
            "_________________________________________________________________\n",
            "Layer (type)                 Output Shape              Param #   \n",
            "=================================================================\n",
            "dense_28 (Dense)             (None, 512)               14848     \n",
            "_________________________________________________________________\n",
            "dropout_4 (Dropout)          (None, 512)               0         \n",
            "_________________________________________________________________\n",
            "dense_29 (Dense)             (None, 512)               262656    \n",
            "_________________________________________________________________\n",
            "dropout_5 (Dropout)          (None, 512)               0         \n",
            "_________________________________________________________________\n",
            "dense_30 (Dense)             (None, 512)               262656    \n",
            "_________________________________________________________________\n",
            "dropout_6 (Dropout)          (None, 512)               0         \n",
            "_________________________________________________________________\n",
            "dense_31 (Dense)             (None, 512)               262656    \n",
            "_________________________________________________________________\n",
            "dropout_7 (Dropout)          (None, 512)               0         \n",
            "_________________________________________________________________\n",
            "dense_32 (Dense)             (None, 1)                 513       \n",
            "=================================================================\n",
            "Total params: 803,329\n",
            "Trainable params: 803,329\n",
            "Non-trainable params: 0\n",
            "_________________________________________________________________\n",
            "\n",
            "Epoch: 0, accuracy:0.5088,  binary_crossentropy:0.7933,  loss:0.9516,  val_accuracy:0.5710,  val_binary_crossentropy:0.6771,  val_loss:0.8348,  \n",
            "....................................................................................................\n",
            "Epoch: 100, accuracy:0.6476,  binary_crossentropy:0.6069,  loss:0.6354,  val_accuracy:0.6460,  val_binary_crossentropy:0.5862,  val_loss:0.6145,  \n",
            "....................................................................................................\n",
            "Epoch: 200, accuracy:0.6633,  binary_crossentropy:0.5906,  loss:0.6150,  val_accuracy:0.6730,  val_binary_crossentropy:0.5749,  val_loss:0.5994,  \n",
            "....................................................................................................\n",
            "Epoch: 300, accuracy:0.6631,  binary_crossentropy:0.5841,  loss:0.6113,  val_accuracy:0.6530,  val_binary_crossentropy:0.5753,  val_loss:0.6025,  \n",
            "....................................................................................................\n",
            "Epoch: 400, accuracy:0.6759,  binary_crossentropy:0.5776,  loss:0.6068,  val_accuracy:0.6830,  val_binary_crossentropy:0.5640,  val_loss:0.5931,  \n",
            "....................................................................................................\n",
            "Epoch: 500, accuracy:0.6791,  binary_crossentropy:0.5719,  loss:0.6038,  val_accuracy:0.6930,  val_binary_crossentropy:0.5505,  val_loss:0.5825,  \n",
            "....................................................................................................\n",
            "Epoch: 600, accuracy:0.6863,  binary_crossentropy:0.5652,  loss:0.5991,  val_accuracy:0.6900,  val_binary_crossentropy:0.5465,  val_loss:0.5804,  \n",
            "....................................................................................................\n",
            "Epoch: 700, accuracy:0.6916,  binary_crossentropy:0.5598,  loss:0.5952,  val_accuracy:0.7030,  val_binary_crossentropy:0.5386,  val_loss:0.5741,  \n",
            "....................................................................................................\n",
            "Epoch: 800, accuracy:0.6942,  binary_crossentropy:0.5562,  loss:0.5926,  val_accuracy:0.6950,  val_binary_crossentropy:0.5392,  val_loss:0.5756,  \n",
            "....................................................................................................\n",
            "Epoch: 900, accuracy:0.6950,  binary_crossentropy:0.5568,  loss:0.5946,  val_accuracy:0.6980,  val_binary_crossentropy:0.5489,  val_loss:0.5866,  \n",
            "....................................................................................................\n",
            "Epoch: 1000, accuracy:0.6949,  binary_crossentropy:0.5515,  loss:0.5902,  val_accuracy:0.7110,  val_binary_crossentropy:0.5455,  val_loss:0.5842,  \n",
            "....................................................................................................\n",
            "Epoch: 1100, accuracy:0.7008,  binary_crossentropy:0.5490,  loss:0.5890,  val_accuracy:0.6920,  val_binary_crossentropy:0.5557,  val_loss:0.5957,  \n",
            "....................................................................................................\n",
            "Epoch: 1200, accuracy:0.6994,  binary_crossentropy:0.5453,  loss:0.5864,  val_accuracy:0.7080,  val_binary_crossentropy:0.5440,  val_loss:0.5851,  \n",
            "...................................................."
          ],
          "name": "stdout"
        }
      ]
    },
    {
      "cell_type": "code",
      "metadata": {
        "id": "l96B0It4urGo",
        "colab_type": "code",
        "colab": {
          "base_uri": "https://localhost:8080/",
          "height": 409
        },
        "outputId": "79d9f67d-d697-4186-a8a1-774fa89faf0a"
      },
      "source": [
        "plt.figure(figsize=(8,6))\n",
        "plotter.plot(regularizer_histories)\n",
        "plt.ylim([0.5, 0.7])"
      ],
      "execution_count": 70,
      "outputs": [
        {
          "output_type": "execute_result",
          "data": {
            "text/plain": [
              "(0.5, 0.7)"
            ]
          },
          "metadata": {
            "tags": []
          },
          "execution_count": 70
        },
        {
          "output_type": "display_data",
          "data": {
            "image/png": "[encoded data removed]",
            "text/plain": [
              "<Figure size 576x432 with 1 Axes>"
            ]
          },
          "metadata": {
            "tags": [],
            "needs_background": "light"
          }
        }
      ]
    },
    {
      "cell_type": "code",
      "metadata": {
        "id": "kFXtlM0n1vpX",
        "colab_type": "code",
        "colab": {}
      },
      "source": [
        ""
      ],
      "execution_count": null,
      "outputs": []
    }
  ]
}
