{
  "nbformat": 4,
  "nbformat_minor": 0,
  "metadata": {
    "colab": {
      "name": "TensorFlow Sandbox.ipynb",
      "provenance": [],
      "collapsed_sections": [],
      "authorship_tag": "ABX9TyM8h+ks0WMlJS+qEeCURtkL",
      "include_colab_link": true
    },
    "kernelspec": {
      "name": "python3",
      "display_name": "Python 3"
    }
  },
  "cells": [
    {
      "cell_type": "markdown",
      "metadata": {
        "id": "view-in-github",
        "colab_type": "text"
      },
      "source": [
        "<a href=\"https://colab.research.google.com/github/ShohamWeiss/NeuralNetworkTutorials/blob/master/Sandboxes/TensorFlow_Sandbox.ipynb\" target=\"_parent\"><img src=\"https://colab.research.google.com/assets/colab-badge.svg\" alt=\"Open In Colab\"/></a>"
      ]
    },
    {
      "cell_type": "markdown",
      "metadata": {
        "id": "QTJyhVrvzW8J",
        "colab_type": "text"
      },
      "source": [
        "Setup"
      ]
    },
    {
      "cell_type": "code",
      "metadata": {
        "id": "Vc9V5dUazRmC",
        "colab_type": "code",
        "colab": {}
      },
      "source": [
        "import tensorflow as tf\n",
        "from tensorflow import keras\n",
        "import pandas as pd\n",
        "import random\n",
        "import numpy as np"
      ],
      "execution_count": null,
      "outputs": []
    },
    {
      "cell_type": "markdown",
      "metadata": {
        "id": "iCu2kSvr5t9b",
        "colab_type": "text"
      },
      "source": [
        "Create a game that has you choose a color out of three options and collects the data"
      ]
    },
    {
      "cell_type": "code",
      "metadata": {
        "id": "QDMC1Snpzab0",
        "colab_type": "code",
        "colab": {
          "base_uri": "https://localhost:8080/",
          "height": 1000
        },
        "outputId": "9a854c47-f5ed-46bd-be77-b634eb75faed"
      },
      "source": [
        "colors = [\"blue\", \"green\", \"grey\", \"black\", \"yellow\", \"purple\", \"red\"]\n",
        "playing = True\n",
        "count = 0\n",
        "data = {\"Option1\" : [], \"Option2\" : [], \"Option3\" : [], \"Choice\" : []}\n",
        "options = ['1','2','3','5']\n",
        "while (playing):\n",
        "  print(\"Num of Colors Picked = {}\".format(count))\n",
        "  print(\"Pick a Color:\")\n",
        "  color1 = random.randrange(len(colors))\n",
        "  color2 = random.randrange(len(colors))\n",
        "  color3 = random.randrange(len(colors))\n",
        "  print(1, colors[color1])\n",
        "  print(2, colors[color2])\n",
        "  print(3, colors[color3])\n",
        "  choice = input()\n",
        "  if (not choice in options):\n",
        "    continue\n",
        "  if (choice == \"5\"):\n",
        "    break\n",
        "  data[\"Option1\"].append(color1/len(colors))\n",
        "  data[\"Option2\"].append(color2/len(colors))\n",
        "  data[\"Option3\"].append(color3/len(colors))\n",
        "  data[\"Choice\"].append(int(choice)/3)\n",
        "  count += 1"
      ],
      "execution_count": null,
      "outputs": [
        {
          "output_type": "stream",
          "text": [
            "Num of Colors Picked = 0\n",
            "Pick a Color:\n",
            "1 green\n",
            "2 yellow\n",
            "3 purple\n",
            "2\n",
            "Num of Colors Picked = 1\n",
            "Pick a Color:\n",
            "1 red\n",
            "2 green\n",
            "3 grey\n",
            "2\n",
            "Num of Colors Picked = 2\n",
            "Pick a Color:\n",
            "1 purple\n",
            "2 red\n",
            "3 purple\n",
            "2\n",
            "Num of Colors Picked = 3\n",
            "Pick a Color:\n",
            "1 grey\n",
            "2 black\n",
            "3 purple\n",
            "2\n",
            "Num of Colors Picked = 4\n",
            "Pick a Color:\n",
            "1 yellow\n",
            "2 yellow\n",
            "3 purple\n",
            "2\n",
            "Num of Colors Picked = 5\n",
            "Pick a Color:\n",
            "1 green\n",
            "2 black\n",
            "3 purple\n",
            "2\n",
            "Num of Colors Picked = 6\n",
            "Pick a Color:\n",
            "1 grey\n",
            "2 red\n",
            "3 purple\n",
            "2\n",
            "Num of Colors Picked = 7\n",
            "Pick a Color:\n",
            "1 green\n",
            "2 red\n",
            "3 yellow\n",
            "2\n",
            "Num of Colors Picked = 8\n",
            "Pick a Color:\n",
            "1 yellow\n",
            "2 green\n",
            "3 blue\n",
            "2\n",
            "Num of Colors Picked = 9\n",
            "Pick a Color:\n",
            "1 black\n",
            "2 blue\n",
            "3 red\n",
            "2\n",
            "Num of Colors Picked = 10\n",
            "Pick a Color:\n",
            "1 green\n",
            "2 black\n",
            "3 purple\n",
            "2\n",
            "Num of Colors Picked = 11\n",
            "Pick a Color:\n",
            "1 blue\n",
            "2 yellow\n",
            "3 purple\n",
            "2\n",
            "Num of Colors Picked = 12\n",
            "Pick a Color:\n",
            "1 green\n",
            "2 purple\n",
            "3 yellow\n",
            "2\n",
            "Num of Colors Picked = 13\n",
            "Pick a Color:\n",
            "1 black\n",
            "2 purple\n",
            "3 black\n",
            "2\n",
            "Num of Colors Picked = 14\n",
            "Pick a Color:\n",
            "1 purple\n",
            "2 grey\n",
            "3 red\n",
            "2\n",
            "Num of Colors Picked = 15\n",
            "Pick a Color:\n",
            "1 yellow\n",
            "2 red\n",
            "3 blue\n",
            "2\n",
            "Num of Colors Picked = 16\n",
            "Pick a Color:\n",
            "1 purple\n",
            "2 purple\n",
            "3 blue\n",
            "2\n",
            "Num of Colors Picked = 17\n",
            "Pick a Color:\n",
            "1 green\n",
            "2 red\n",
            "3 black\n",
            "2\n",
            "Num of Colors Picked = 18\n",
            "Pick a Color:\n",
            "1 black\n",
            "2 purple\n",
            "3 grey\n",
            "2\n",
            "Num of Colors Picked = 19\n",
            "Pick a Color:\n",
            "1 green\n",
            "2 black\n",
            "3 red\n",
            "2\n",
            "Num of Colors Picked = 20\n",
            "Pick a Color:\n",
            "1 black\n",
            "2 purple\n",
            "3 red\n",
            "2\n",
            "Num of Colors Picked = 21\n",
            "Pick a Color:\n",
            "1 purple\n",
            "2 purple\n",
            "3 blue\n",
            "2\n",
            "Num of Colors Picked = 22\n",
            "Pick a Color:\n",
            "1 blue\n",
            "2 red\n",
            "3 red\n",
            "2\n",
            "Num of Colors Picked = 23\n",
            "Pick a Color:\n",
            "1 yellow\n",
            "2 blue\n",
            "3 yellow\n",
            "2\n",
            "Num of Colors Picked = 24\n",
            "Pick a Color:\n",
            "1 black\n",
            "2 purple\n",
            "3 green\n",
            "2\n",
            "Num of Colors Picked = 25\n",
            "Pick a Color:\n",
            "1 grey\n",
            "2 red\n",
            "3 blue\n",
            "5\n"
          ],
          "name": "stdout"
        }
      ]
    },
    {
      "cell_type": "code",
      "metadata": {
        "id": "NU9O_AuE6WMm",
        "colab_type": "code",
        "colab": {
          "base_uri": "https://localhost:8080/",
          "height": 202
        },
        "outputId": "4402bda1-3141-4a72-d9a7-e7f00c321eb7"
      },
      "source": [
        "df = pd.DataFrame(data)\n",
        "target = df.pop(\"Choice\")\n",
        "print(df.head(), target.head())\n",
        "# target.dtypes"
      ],
      "execution_count": null,
      "outputs": [
        {
          "output_type": "stream",
          "text": [
            "    Option1   Option2   Option3\n",
            "0  0.142857  0.571429  0.714286\n",
            "1  0.857143  0.142857  0.285714\n",
            "2  0.714286  0.857143  0.714286\n",
            "3  0.285714  0.428571  0.714286\n",
            "4  0.571429  0.571429  0.714286 0    0.666667\n",
            "1    0.666667\n",
            "2    0.666667\n",
            "3    0.666667\n",
            "4    0.666667\n",
            "Name: Choice, dtype: float64\n"
          ],
          "name": "stdout"
        }
      ]
    },
    {
      "cell_type": "code",
      "metadata": {
        "id": "dRvrVWOgCN6I",
        "colab_type": "code",
        "colab": {}
      },
      "source": [
        "model = keras.Sequential([\n",
        "    keras.layers.Dense(3, activation=\"relu\"),\n",
        "    keras.layers.Dense(1, activation=\"relu\")])\n",
        "model.compile(optimizer=\"adam\",\n",
        "              loss=tf.keras.losses.CategoricalCrossentropy(from_logits=True))"
      ],
      "execution_count": null,
      "outputs": []
    },
    {
      "cell_type": "code",
      "metadata": {
        "id": "17jtSTkRCcQV",
        "colab_type": "code",
        "colab": {}
      },
      "source": [
        "dataset = tf.data.Dataset.from_tensor_slices((df.values, target))"
      ],
      "execution_count": null,
      "outputs": []
    },
    {
      "cell_type": "code",
      "metadata": {
        "id": "ZYoUFM77ZfAH",
        "colab_type": "code",
        "colab": {
          "base_uri": "https://localhost:8080/",
          "height": 212
        },
        "outputId": "f226dd1f-d3f5-4e37-c848-0a758bc85a46"
      },
      "source": [
        "train_dataset = tf.data.Dataset.from_tensor_slices()\n",
        "train_dataset = dataset.batch(1)\n",
        "model.fit(train_dataset, epochs=10)"
      ],
      "execution_count": null,
      "outputs": [
        {
          "output_type": "error",
          "ename": "TypeError",
          "evalue": "ignored",
          "traceback": [
            "\u001b[0;31m---------------------------------------------------------------------------\u001b[0m",
            "\u001b[0;31mTypeError\u001b[0m                                 Traceback (most recent call last)",
            "\u001b[0;32m<ipython-input-113-911dfe4468de>\u001b[0m in \u001b[0;36m<module>\u001b[0;34m()\u001b[0m\n\u001b[0;32m----> 1\u001b[0;31m \u001b[0mtrain_dataset\u001b[0m \u001b[0;34m=\u001b[0m \u001b[0mtf\u001b[0m\u001b[0;34m.\u001b[0m\u001b[0mdata\u001b[0m\u001b[0;34m.\u001b[0m\u001b[0mDataset\u001b[0m\u001b[0;34m.\u001b[0m\u001b[0mfrom_tensor_slices\u001b[0m\u001b[0;34m(\u001b[0m\u001b[0;34m)\u001b[0m\u001b[0;34m\u001b[0m\u001b[0;34m\u001b[0m\u001b[0m\n\u001b[0m\u001b[1;32m      2\u001b[0m \u001b[0;34m\u001b[0m\u001b[0m\n\u001b[1;32m      3\u001b[0m \u001b[0mtrain_dataset\u001b[0m \u001b[0;34m=\u001b[0m \u001b[0mdataset\u001b[0m\u001b[0;34m.\u001b[0m\u001b[0mbatch\u001b[0m\u001b[0;34m(\u001b[0m\u001b[0;36m1\u001b[0m\u001b[0;34m)\u001b[0m\u001b[0;34m\u001b[0m\u001b[0;34m\u001b[0m\u001b[0m\n\u001b[1;32m      4\u001b[0m \u001b[0mmodel\u001b[0m\u001b[0;34m.\u001b[0m\u001b[0mfit\u001b[0m\u001b[0;34m(\u001b[0m\u001b[0mtrain_dataset\u001b[0m\u001b[0;34m,\u001b[0m \u001b[0mepochs\u001b[0m\u001b[0;34m=\u001b[0m\u001b[0;36m10\u001b[0m\u001b[0;34m)\u001b[0m\u001b[0;34m\u001b[0m\u001b[0;34m\u001b[0m\u001b[0m\n",
            "\u001b[0;31mTypeError\u001b[0m: from_tensor_slices() missing 1 required positional argument: 'tensors'"
          ]
        }
      ]
    },
    {
      "cell_type": "code",
      "metadata": {
        "id": "To9FMhMMZ0ow",
        "colab_type": "code",
        "colab": {
          "base_uri": "https://localhost:8080/",
          "height": 34
        },
        "outputId": "6e6276ed-f996-4fb1-9dce-528db69b7e3c"
      },
      "source": [
        "# probability_model = tf.keras.Sequential([model, \n",
        "#                                          tf.keras.layers.Softmax()])\n",
        "probability_model.predict(np.array([[1,2,3]]))"
      ],
      "execution_count": null,
      "outputs": [
        {
          "output_type": "execute_result",
          "data": {
            "text/plain": [
              "array([[1.]], dtype=float32)"
            ]
          },
          "metadata": {
            "tags": []
          },
          "execution_count": 114
        }
      ]
    },
    {
      "cell_type": "code",
      "metadata": {
        "id": "6-3ZCfG2fx0h",
        "colab_type": "code",
        "colab": {
          "base_uri": "https://localhost:8080/",
          "height": 162
        },
        "outputId": "91446323-df9c-4c72-d071-280f1aecf0b9"
      },
      "source": [
        "\n",
        "tensor = tf.constant([[1,2],[3,4]])"
      ],
      "execution_count": null,
      "outputs": [
        {
          "output_type": "error",
          "ename": "NameError",
          "evalue": "ignored",
          "traceback": [
            "\u001b[0;31m---------------------------------------------------------------------------\u001b[0m",
            "\u001b[0;31mNameError\u001b[0m                                 Traceback (most recent call last)",
            "\u001b[0;32m<ipython-input-1-9ed2e241cefa>\u001b[0m in \u001b[0;36m<module>\u001b[0;34m()\u001b[0m\n\u001b[0;32m----> 1\u001b[0;31m \u001b[0mtensor\u001b[0m \u001b[0;34m=\u001b[0m \u001b[0mtf\u001b[0m\u001b[0;34m.\u001b[0m\u001b[0mconstant\u001b[0m\u001b[0;34m(\u001b[0m\u001b[0;34m[\u001b[0m\u001b[0;34m[\u001b[0m\u001b[0;36m1\u001b[0m\u001b[0;34m,\u001b[0m\u001b[0;36m2\u001b[0m\u001b[0;34m]\u001b[0m\u001b[0;34m,\u001b[0m\u001b[0;34m[\u001b[0m\u001b[0;36m3\u001b[0m\u001b[0;34m,\u001b[0m\u001b[0;36m4\u001b[0m\u001b[0;34m]\u001b[0m\u001b[0;34m]\u001b[0m\u001b[0;34m)\u001b[0m\u001b[0;34m\u001b[0m\u001b[0;34m\u001b[0m\u001b[0m\n\u001b[0m",
            "\u001b[0;31mNameError\u001b[0m: name 'tf' is not defined"
          ]
        }
      ]
    },
    {
      "cell_type": "code",
      "metadata": {
        "id": "_kvrEASHyeH5",
        "colab_type": "code",
        "colab": {}
      },
      "source": [
        "x = [ 1, 2, 3, 4, 5, 6 ]\n"
      ],
      "execution_count": null,
      "outputs": []
    }
  ]
}